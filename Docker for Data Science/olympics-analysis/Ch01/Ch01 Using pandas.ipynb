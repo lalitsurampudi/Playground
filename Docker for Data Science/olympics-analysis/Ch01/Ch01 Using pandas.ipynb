{
 "cells": [
  {
   "cell_type": "markdown",
   "metadata": {},
   "source": [
    "# Using Pandas"
   ]
  },
  {
   "cell_type": "markdown",
   "metadata": {},
   "source": [
    "## Importing pandas"
   ]
  },
  {
   "source": [
    "import pandas"
   ],
   "cell_type": "code",
   "outputs": [
    {
     "output_type": "error",
     "evalue": "Error: Activating Python 3.7.0 64-bit ('devenv': conda) to run Jupyter failed with Error: StdErr from ShellExec, ERROR: The system was unable to find the specified registry key or value.\r\nThe system cannot find the batch label specified - End\r\n."
    }
   ],
   "metadata": {},
   "execution_count": null
  },
  {
   "source": [
    "pandas.__version__"
   ],
   "cell_type": "code",
   "outputs": [
    {
     "output_type": "error",
     "evalue": "Error: Activating Python 3.7.0 64-bit ('devenv': conda) to run Jupyter failed with Error: StdErr from ShellExec, ERROR: The system was unable to find the specified registry key or value.\r\nThe system cannot find the batch label specified - End\r\n."
    }
   ],
   "metadata": {},
   "execution_count": null
  },
  {
   "source": [
    "import pandas as pd"
   ],
   "cell_type": "code",
   "outputs": [
    {
     "output_type": "error",
     "evalue": "Error: Activating Python 3.7.0 64-bit ('devenv': conda) to run Jupyter failed with Error: StdErr from ShellExec, ERROR: The system was unable to find the specified registry key or value.\r\nThe system cannot find the batch label specified - End\r\n."
    }
   ],
   "metadata": {},
   "execution_count": null
  },
  {
   "source": [
    "pd.__version__"
   ],
   "cell_type": "code",
   "outputs": [
    {
     "output_type": "error",
     "evalue": "Error: Activating Python 3.7.0 64-bit ('devenv': conda) to run Jupyter failed with Error: StdErr from ShellExec, ERROR: The system was unable to find the specified registry key or value.\r\nThe system cannot find the batch label specified - End\r\n."
    }
   ],
   "metadata": {},
   "execution_count": null
  },
  {
   "cell_type": "markdown",
   "metadata": {},
   "source": [
    "## Pandas documentation"
   ]
  },
  {
   "source": [
    "pd.show_versions()"
   ],
   "cell_type": "code",
   "outputs": [
    {
     "output_type": "error",
     "evalue": "Error: Activating Python 3.7.0 64-bit ('devenv': conda) to run Jupyter failed with Error: StdErr from ShellExec, ERROR: The system was unable to find the specified registry key or value.\r\nThe system cannot find the batch label specified - End\r\n."
    }
   ],
   "metadata": {},
   "execution_count": null
  },
  {
   "source": [
    "pd.show_versions?"
   ],
   "cell_type": "code",
   "outputs": [
    {
     "output_type": "error",
     "evalue": "Error: Activating Python 3.7.0 64-bit ('devenv': conda) to run Jupyter failed with Error: StdErr from ShellExec, ERROR: The system was unable to find the specified registry key or value.\r\nThe system cannot find the batch label specified - End\r\n."
    }
   ],
   "metadata": {},
   "execution_count": null
  },
  {
   "source": [
    "pd.read_csv?"
   ],
   "cell_type": "code",
   "outputs": [
    {
     "output_type": "error",
     "evalue": "Error: Activating Python 3.7.0 64-bit ('devenv': conda) to run Jupyter failed with Error: StdErr from ShellExec, ERROR: The system was unable to find the specified registry key or value.\r\nThe system cannot find the batch label specified - End\r\n."
    }
   ],
   "metadata": {},
   "execution_count": null
  },
  {
   "cell_type": "code",
   "execution_count": null,
   "metadata": {
    "collapsed": true
   },
   "outputs": [],
   "source": []
  }
 ],
 "metadata": {
  "kernelspec": {
   "display_name": "Python 3",
   "language": "python",
   "name": "python3"
  },
  "language_info": {
   "codemirror_mode": {
    "name": "ipython",
    "version": 3
   },
   "file_extension": ".py",
   "mimetype": "text/x-python",
   "name": "python",
   "nbconvert_exporter": "python",
   "pygments_lexer": "ipython3",
   "version": "3.7.3"
  }
 },
 "nbformat": 4,
 "nbformat_minor": 1
}